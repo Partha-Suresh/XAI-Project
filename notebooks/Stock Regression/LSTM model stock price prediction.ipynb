{
 "cells": [
  {
   "cell_type": "code",
   "execution_count": 1,
   "metadata": {},
   "outputs": [],
   "source": [
    "import pandas as pd\n",
    "import numpy as np\n",
    "import matplotlib.pyplot as plt\n",
    "\n",
    "plt.style.use(\"fivethirtyeight\")\n",
    "\n",
    "from keras.models import Sequential\n",
    "from keras.layers import Dense, Dropout, LSTM, GRU, Bidirectional\n",
    "from keras.optimizers import SGD\n",
    "\n",
    "from sklearn.preprocessing import MinMaxScaler\n",
    "from sklearn.metrics import mean_squared_error\n",
    "\n",
    "import math\n",
    "\n",
    "import warnings\n",
    "warnings.filterwarnings(\"ignore\")"
   ]
  },
  {
   "cell_type": "markdown",
   "metadata": {},
   "source": [
    "This is a function to plot test and predicted values"
   ]
  },
  {
   "cell_type": "code",
   "execution_count": 3,
   "metadata": {},
   "outputs": [],
   "source": [
    "def plot_predictions(test, predicted):\n",
    "    plt.plot(test, color=\"red\", label=\"real IBM stock price\")\n",
    "    plt.plot(predicted, color=\"blue\", label=\"predicted stock price\")\n",
    "    plt.title(\"IBM stock price prediction\")\n",
    "    plt.xlabel(\"time\")\n",
    "    plt.ylabel(\"IBM stock price\")\n",
    "    plt.legend()\n",
    "    plt.show()"
   ]
  },
  {
   "cell_type": "markdown",
   "metadata": {},
   "source": [
    "Function to calculate RMSE"
   ]
  },
  {
   "cell_type": "code",
   "execution_count": 2,
   "metadata": {},
   "outputs": [],
   "source": [
    "def return_rmse(test, predicted):\n",
    "    rmse = math.sqrt(mean_squared_error(test, predicted))\n",
    "    print(\"the root mean squared error is : {}.\".format(rmse))"
   ]
  },
  {
   "cell_type": "code",
   "execution_count": 4,
   "metadata": {},
   "outputs": [
    {
     "data": {
      "text/plain": [
       "(2486, 6)"
      ]
     },
     "execution_count": 4,
     "metadata": {},
     "output_type": "execute_result"
    }
   ],
   "source": [
    "data = pd.read_csv(\"../../data/Stock Regression/TSLA Historical Data 2015-2024.csv\", index_col='Date', parse_dates=[\"Date\"])\n",
    "\n",
    "data.shape"
   ]
  },
  {
   "cell_type": "code",
   "execution_count": 6,
   "metadata": {},
   "outputs": [
    {
     "data": {
      "text/html": [
       "<div>\n",
       "<style scoped>\n",
       "    .dataframe tbody tr th:only-of-type {\n",
       "        vertical-align: middle;\n",
       "    }\n",
       "\n",
       "    .dataframe tbody tr th {\n",
       "        vertical-align: top;\n",
       "    }\n",
       "\n",
       "    .dataframe thead th {\n",
       "        text-align: right;\n",
       "    }\n",
       "</style>\n",
       "<table border=\"1\" class=\"dataframe\">\n",
       "  <thead>\n",
       "    <tr style=\"text-align: right;\">\n",
       "      <th></th>\n",
       "      <th>Price</th>\n",
       "      <th>Open</th>\n",
       "      <th>High</th>\n",
       "      <th>Low</th>\n",
       "      <th>Vol.(Millions)</th>\n",
       "      <th>Change</th>\n",
       "    </tr>\n",
       "    <tr>\n",
       "      <th>Date</th>\n",
       "      <th></th>\n",
       "      <th></th>\n",
       "      <th></th>\n",
       "      <th></th>\n",
       "      <th></th>\n",
       "      <th></th>\n",
       "    </tr>\n",
       "  </thead>\n",
       "  <tbody>\n",
       "    <tr>\n",
       "      <th>11/15/2024</th>\n",
       "      <td>320.72</td>\n",
       "      <td>310.57</td>\n",
       "      <td>324.68</td>\n",
       "      <td>309.22</td>\n",
       "      <td>114.44</td>\n",
       "      <td>0.0307</td>\n",
       "    </tr>\n",
       "    <tr>\n",
       "      <th>11/14/2024</th>\n",
       "      <td>311.18</td>\n",
       "      <td>327.69</td>\n",
       "      <td>329.98</td>\n",
       "      <td>310.37</td>\n",
       "      <td>120.73</td>\n",
       "      <td>-0.0577</td>\n",
       "    </tr>\n",
       "    <tr>\n",
       "      <th>11/13/2024</th>\n",
       "      <td>330.24</td>\n",
       "      <td>335.85</td>\n",
       "      <td>344.60</td>\n",
       "      <td>322.50</td>\n",
       "      <td>125.41</td>\n",
       "      <td>0.0053</td>\n",
       "    </tr>\n",
       "    <tr>\n",
       "      <th>11-12-2024</th>\n",
       "      <td>328.49</td>\n",
       "      <td>342.74</td>\n",
       "      <td>345.84</td>\n",
       "      <td>323.31</td>\n",
       "      <td>155.73</td>\n",
       "      <td>-0.0615</td>\n",
       "    </tr>\n",
       "    <tr>\n",
       "      <th>11-11-2024</th>\n",
       "      <td>350.00</td>\n",
       "      <td>346.30</td>\n",
       "      <td>358.64</td>\n",
       "      <td>336.00</td>\n",
       "      <td>210.52</td>\n",
       "      <td>0.0896</td>\n",
       "    </tr>\n",
       "  </tbody>\n",
       "</table>\n",
       "</div>"
      ],
      "text/plain": [
       "             Price    Open    High     Low  Vol.(Millions)  Change\n",
       "Date                                                              \n",
       "11/15/2024  320.72  310.57  324.68  309.22          114.44  0.0307\n",
       "11/14/2024  311.18  327.69  329.98  310.37          120.73 -0.0577\n",
       "11/13/2024  330.24  335.85  344.60  322.50          125.41  0.0053\n",
       "11-12-2024  328.49  342.74  345.84  323.31          155.73 -0.0615\n",
       "11-11-2024  350.00  346.30  358.64  336.00          210.52  0.0896"
      ]
     },
     "execution_count": 6,
     "metadata": {},
     "output_type": "execute_result"
    }
   ],
   "source": [
    "data.head(5)"
   ]
  }
 ],
 "metadata": {
  "kernelspec": {
   "display_name": "Python 3",
   "language": "python",
   "name": "python3"
  },
  "language_info": {
   "codemirror_mode": {
    "name": "ipython",
    "version": 3
   },
   "file_extension": ".py",
   "mimetype": "text/x-python",
   "name": "python",
   "nbconvert_exporter": "python",
   "pygments_lexer": "ipython3",
   "version": "3.12.3"
  }
 },
 "nbformat": 4,
 "nbformat_minor": 2
}

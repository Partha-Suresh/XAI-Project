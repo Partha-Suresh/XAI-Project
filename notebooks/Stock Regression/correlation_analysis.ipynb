{
 "cells": [
  {
   "cell_type": "code",
   "execution_count": 31,
   "metadata": {},
   "outputs": [],
   "source": [
    "import numpy as np\n",
    "import matplotlib as plt\n",
    "import pandas as pd"
   ]
  },
  {
   "cell_type": "markdown",
   "metadata": {},
   "source": [
    "correlation formula\n",
    "![https://www.geeksforgeeks.org/wp-content/ql-cache/quicklatex.com-645e44c7cde6abdb5540e32f6c56811f_l3.svg](http://)"
   ]
  },
  {
   "cell_type": "markdown",
   "metadata": {},
   "source": [
    "Finding the correlation coefficients of some of the parameters in the dataset. Since there are less number of columns in the dataset, we can check correlations for many more fields"
   ]
  },
  {
   "cell_type": "markdown",
   "metadata": {},
   "source": [
    "1. Check the correlation between the fields 'Price' and 'Change'"
   ]
  },
  {
   "cell_type": "code",
   "execution_count": 32,
   "metadata": {},
   "outputs": [
    {
     "name": "stdout",
     "output_type": "stream",
     "text": [
      "     Unnamed: 0        Date   Price    Open    High     Low  Vol.(millions)  \\\n",
      "0             0  31-10-2024  249.85  257.99  259.75  249.25           66.58   \n",
      "1             1  30-10-2024  257.55  258.04  263.35  255.82           53.99   \n",
      "2             2  29-10-2024  259.52  264.51  264.98  255.51           80.52   \n",
      "3             3  28-10-2024  262.51  270.00  273.54  262.24          107.65   \n",
      "4             4  25-10-2024  269.19  256.01  269.49  255.32          161.61   \n",
      "..          ...         ...     ...     ...     ...     ...             ...   \n",
      "497         498  07-11-2022  197.08  208.65  208.90  196.66           93.92   \n",
      "498         499  04-11-2022  207.47  222.60  223.80  203.08           98.62   \n",
      "499         500  03-11-2022  215.31  211.36  221.20  210.14           56.54   \n",
      "500         501  02-11-2022  214.98  226.04  227.87  214.82           63.07   \n",
      "501         502  01-11-2022  227.82  234.05  237.40  227.28           62.69   \n",
      "\n",
      "     Change  \n",
      "0   -0.0299  \n",
      "1   -0.0076  \n",
      "2   -0.0114  \n",
      "3   -0.0248  \n",
      "4    0.0334  \n",
      "..      ...  \n",
      "497 -0.0501  \n",
      "498 -0.0364  \n",
      "499  0.0015  \n",
      "500 -0.0564  \n",
      "501  0.0012  \n",
      "\n",
      "[502 rows x 8 columns]\n"
     ]
    }
   ],
   "source": [
    "df=pd.read_csv(\"../../data/Stock Regression/Cleaned/TSLA Cleaned Data.csv\")\n",
    "print(df)"
   ]
  },
  {
   "cell_type": "code",
   "execution_count": 33,
   "metadata": {},
   "outputs": [],
   "source": [
    "# df.rename(columns={'Change %':'Change'},inplace=True)"
   ]
  },
  {
   "cell_type": "code",
   "execution_count": 34,
   "metadata": {},
   "outputs": [
    {
     "name": "stdout",
     "output_type": "stream",
     "text": [
      "      Price  Change\n",
      "0    249.85 -0.0299\n",
      "1    257.55 -0.0076\n",
      "2    259.52 -0.0114\n",
      "3    262.51 -0.0248\n",
      "4    269.19  0.0334\n",
      "..      ...     ...\n",
      "497  197.08 -0.0501\n",
      "498  207.47 -0.0364\n",
      "499  215.31  0.0015\n",
      "500  214.98 -0.0564\n",
      "501  227.82  0.0012\n",
      "\n",
      "[502 rows x 2 columns]\n"
     ]
    }
   ],
   "source": [
    "corr1_df = df[['Price','Change']].copy()\n",
    "print(corr1_df)"
   ]
  },
  {
   "cell_type": "code",
   "execution_count": 35,
   "metadata": {},
   "outputs": [
    {
     "name": "stdout",
     "output_type": "stream",
     "text": [
      "           Price    Change\n",
      "Price   1.000000  0.096184\n",
      "Change  0.096184  1.000000\n"
     ]
    }
   ],
   "source": [
    "print(corr1_df.corr())"
   ]
  },
  {
   "cell_type": "markdown",
   "metadata": {},
   "source": [
    "In the output above, the correlation between 'Change' and 'Price is ~0.1, hence there is no significant correlation between the two"
   ]
  },
  {
   "cell_type": "markdown",
   "metadata": {},
   "source": [
    "2. Check the correlation between the fields 'Open' and 'Change'"
   ]
  },
  {
   "cell_type": "code",
   "execution_count": 36,
   "metadata": {},
   "outputs": [
    {
     "name": "stdout",
     "output_type": "stream",
     "text": [
      "       Open  Change\n",
      "0    257.99 -0.0299\n",
      "1    258.04 -0.0076\n",
      "2    264.51 -0.0114\n",
      "3    270.00 -0.0248\n",
      "4    256.01  0.0334\n",
      "..      ...     ...\n",
      "497  208.65 -0.0501\n",
      "498  222.60 -0.0364\n",
      "499  211.36  0.0015\n",
      "500  226.04 -0.0564\n",
      "501  234.05  0.0012\n",
      "\n",
      "[502 rows x 2 columns]\n"
     ]
    }
   ],
   "source": [
    "corr1_df = df[['Open','Change']].copy()\n",
    "print(corr1_df)"
   ]
  },
  {
   "cell_type": "code",
   "execution_count": 37,
   "metadata": {},
   "outputs": [
    {
     "name": "stdout",
     "output_type": "stream",
     "text": [
      "            Open    Change\n",
      "Open    1.000000 -0.020608\n",
      "Change -0.020608  1.000000\n"
     ]
    }
   ],
   "source": [
    "print(corr1_df.corr())"
   ]
  },
  {
   "cell_type": "markdown",
   "metadata": {},
   "source": [
    "In the output above, the correlation between 'Change' and 'Open' is ~0.02, hence there is no significant correlation between the two"
   ]
  },
  {
   "cell_type": "markdown",
   "metadata": {},
   "source": [
    "3. Check the correlation between the fields 'High' and 'Change'"
   ]
  },
  {
   "cell_type": "code",
   "execution_count": 38,
   "metadata": {},
   "outputs": [
    {
     "name": "stdout",
     "output_type": "stream",
     "text": [
      "       High  Change\n",
      "0    259.75 -0.0299\n",
      "1    263.35 -0.0076\n",
      "2    264.98 -0.0114\n",
      "3    273.54 -0.0248\n",
      "4    269.49  0.0334\n",
      "..      ...     ...\n",
      "497  208.90 -0.0501\n",
      "498  223.80 -0.0364\n",
      "499  221.20  0.0015\n",
      "500  227.87 -0.0564\n",
      "501  237.40  0.0012\n",
      "\n",
      "[502 rows x 2 columns]\n"
     ]
    }
   ],
   "source": [
    "corr1_df = df[['High','Change']].copy()\n",
    "print(corr1_df)"
   ]
  },
  {
   "cell_type": "code",
   "execution_count": 39,
   "metadata": {},
   "outputs": [
    {
     "name": "stdout",
     "output_type": "stream",
     "text": [
      "           High   Change\n",
      "High    1.00000  0.03378\n",
      "Change  0.03378  1.00000\n"
     ]
    }
   ],
   "source": [
    "print(corr1_df.corr())"
   ]
  },
  {
   "cell_type": "markdown",
   "metadata": {},
   "source": [
    "In the output above, the correlation between 'Change' and 'High' is ~0.03, hence there is no significant correlation between the two"
   ]
  },
  {
   "cell_type": "markdown",
   "metadata": {},
   "source": [
    "4. Check the correlation between the fields 'Low' and 'Change'"
   ]
  },
  {
   "cell_type": "code",
   "execution_count": 40,
   "metadata": {},
   "outputs": [
    {
     "name": "stdout",
     "output_type": "stream",
     "text": [
      "        Low  Change\n",
      "0    249.25 -0.0299\n",
      "1    255.82 -0.0076\n",
      "2    255.51 -0.0114\n",
      "3    262.24 -0.0248\n",
      "4    255.32  0.0334\n",
      "..      ...     ...\n",
      "497  196.66 -0.0501\n",
      "498  203.08 -0.0364\n",
      "499  210.14  0.0015\n",
      "500  214.82 -0.0564\n",
      "501  227.28  0.0012\n",
      "\n",
      "[502 rows x 2 columns]\n"
     ]
    }
   ],
   "source": [
    "corr1_df = df[['Low','Change']].copy()\n",
    "print(corr1_df)"
   ]
  },
  {
   "cell_type": "code",
   "execution_count": 41,
   "metadata": {},
   "outputs": [
    {
     "name": "stdout",
     "output_type": "stream",
     "text": [
      "             Low    Change\n",
      "Low     1.000000  0.037327\n",
      "Change  0.037327  1.000000\n"
     ]
    }
   ],
   "source": [
    "print(corr1_df.corr())"
   ]
  },
  {
   "cell_type": "markdown",
   "metadata": {},
   "source": [
    "In the output above, the correlation between 'Change' and 'Low' is ~0.04, hence there is no significant correlation between the two"
   ]
  },
  {
   "cell_type": "markdown",
   "metadata": {},
   "source": [
    "5. Check the correlation between the fields 'Vol.' and 'Change'"
   ]
  },
  {
   "cell_type": "code",
   "execution_count": 42,
   "metadata": {},
   "outputs": [
    {
     "name": "stdout",
     "output_type": "stream",
     "text": [
      "     Vol.(millions)  Change\n",
      "0             66.58 -0.0299\n",
      "1             53.99 -0.0076\n",
      "2             80.52 -0.0114\n",
      "3            107.65 -0.0248\n",
      "4            161.61  0.0334\n",
      "..              ...     ...\n",
      "497           93.92 -0.0501\n",
      "498           98.62 -0.0364\n",
      "499           56.54  0.0015\n",
      "500           63.07 -0.0564\n",
      "501           62.69  0.0012\n",
      "\n",
      "[502 rows x 2 columns]\n"
     ]
    }
   ],
   "source": [
    "corr1_df = df[['Vol.(millions)','Change']].copy()\n",
    "print(corr1_df)"
   ]
  },
  {
   "cell_type": "code",
   "execution_count": 43,
   "metadata": {},
   "outputs": [
    {
     "name": "stdout",
     "output_type": "stream",
     "text": [
      "                Vol.(millions)    Change\n",
      "Vol.(millions)        1.000000  0.127648\n",
      "Change                0.127648  1.000000\n"
     ]
    }
   ],
   "source": [
    "print(corr1_df.corr())"
   ]
  },
  {
   "cell_type": "code",
   "execution_count": 44,
   "metadata": {},
   "outputs": [
    {
     "name": "stdout",
     "output_type": "stream",
     "text": [
      "     Vol.(millions)  Change\n",
      "0             66.58  0.0299\n",
      "1             53.99  0.0076\n",
      "2             80.52  0.0114\n",
      "3            107.65  0.0248\n",
      "4            161.61  0.0334\n",
      "..              ...     ...\n",
      "497           93.92  0.0501\n",
      "498           98.62  0.0364\n",
      "499           56.54  0.0015\n",
      "500           63.07  0.0564\n",
      "501           62.69  0.0012\n",
      "\n",
      "[502 rows x 2 columns]\n"
     ]
    }
   ],
   "source": [
    "corr1_df = df[['Vol.(millions)','Change']].copy()\n",
    "corr1_df['Change']=abs(corr1_df['Change'])\n",
    "print(corr1_df)"
   ]
  },
  {
   "cell_type": "code",
   "execution_count": 45,
   "metadata": {},
   "outputs": [
    {
     "name": "stdout",
     "output_type": "stream",
     "text": [
      "                Vol.(millions)   Change\n",
      "Vol.(millions)         1.00000  0.47064\n",
      "Change                 0.47064  1.00000\n"
     ]
    }
   ],
   "source": [
    "print(corr1_df.corr())"
   ]
  },
  {
   "cell_type": "markdown",
   "metadata": {},
   "source": [
    "7. Check the correlation between the fields 'Price' and 'Open'"
   ]
  },
  {
   "cell_type": "code",
   "execution_count": 46,
   "metadata": {},
   "outputs": [
    {
     "name": "stdout",
     "output_type": "stream",
     "text": [
      "      Price    Open\n",
      "0    249.85  257.99\n",
      "1    257.55  258.04\n",
      "2    259.52  264.51\n",
      "3    262.51  270.00\n",
      "4    269.19  256.01\n",
      "..      ...     ...\n",
      "497  197.08  208.65\n",
      "498  207.47  222.60\n",
      "499  215.31  211.36\n",
      "500  214.98  226.04\n",
      "501  227.82  234.05\n",
      "\n",
      "[502 rows x 2 columns]\n"
     ]
    }
   ],
   "source": [
    "corr1_df = df[['Price','Open']].copy()\n",
    "print(corr1_df)"
   ]
  },
  {
   "cell_type": "code",
   "execution_count": 47,
   "metadata": {},
   "outputs": [
    {
     "name": "stdout",
     "output_type": "stream",
     "text": [
      "          Price      Open\n",
      "Price  1.000000  0.988507\n",
      "Open   0.988507  1.000000\n"
     ]
    }
   ],
   "source": [
    "print(corr1_df.corr())"
   ]
  },
  {
   "cell_type": "markdown",
   "metadata": {},
   "source": [
    "8. Check the correlation between the fields 'Price' and 'High'"
   ]
  },
  {
   "cell_type": "code",
   "execution_count": 48,
   "metadata": {},
   "outputs": [
    {
     "name": "stdout",
     "output_type": "stream",
     "text": [
      "      Price    High\n",
      "0    249.85  259.75\n",
      "1    257.55  263.35\n",
      "2    259.52  264.98\n",
      "3    262.51  273.54\n",
      "4    269.19  269.49\n",
      "..      ...     ...\n",
      "497  197.08  208.90\n",
      "498  207.47  223.80\n",
      "499  215.31  221.20\n",
      "500  214.98  227.87\n",
      "501  227.82  237.40\n",
      "\n",
      "[502 rows x 2 columns]\n"
     ]
    }
   ],
   "source": [
    "corr1_df = df[['Price','High']].copy()\n",
    "print(corr1_df)"
   ]
  },
  {
   "cell_type": "code",
   "execution_count": 49,
   "metadata": {},
   "outputs": [
    {
     "name": "stdout",
     "output_type": "stream",
     "text": [
      "          Price      High\n",
      "Price  1.000000  0.995133\n",
      "High   0.995133  1.000000\n"
     ]
    }
   ],
   "source": [
    "print(corr1_df.corr())"
   ]
  },
  {
   "cell_type": "markdown",
   "metadata": {},
   "source": [
    "9. Check the correlation between the fields 'Price' and 'Low'"
   ]
  },
  {
   "cell_type": "code",
   "execution_count": 50,
   "metadata": {},
   "outputs": [
    {
     "name": "stdout",
     "output_type": "stream",
     "text": [
      "      Price     Low\n",
      "0    249.85  249.25\n",
      "1    257.55  255.82\n",
      "2    259.52  255.51\n",
      "3    262.51  262.24\n",
      "4    269.19  255.32\n",
      "..      ...     ...\n",
      "497  197.08  196.66\n",
      "498  207.47  203.08\n",
      "499  215.31  210.14\n",
      "500  214.98  214.82\n",
      "501  227.82  227.28\n",
      "\n",
      "[502 rows x 2 columns]\n"
     ]
    }
   ],
   "source": [
    "corr1_df = df[['Price','Low']].copy()\n",
    "print(corr1_df)"
   ]
  },
  {
   "cell_type": "code",
   "execution_count": 51,
   "metadata": {},
   "outputs": [
    {
     "name": "stdout",
     "output_type": "stream",
     "text": [
      "          Price       Low\n",
      "Price  1.000000  0.995869\n",
      "Low    0.995869  1.000000\n"
     ]
    }
   ],
   "source": [
    "print(corr1_df.corr())"
   ]
  },
  {
   "cell_type": "markdown",
   "metadata": {},
   "source": [
    "11. Check the correlation between the fields 'Low' and 'High'"
   ]
  },
  {
   "cell_type": "code",
   "execution_count": 52,
   "metadata": {},
   "outputs": [
    {
     "name": "stdout",
     "output_type": "stream",
     "text": [
      "       High     Low\n",
      "0    259.75  249.25\n",
      "1    263.35  255.82\n",
      "2    264.98  255.51\n",
      "3    273.54  262.24\n",
      "4    269.49  255.32\n",
      "..      ...     ...\n",
      "497  208.90  196.66\n",
      "498  223.80  203.08\n",
      "499  221.20  210.14\n",
      "500  227.87  214.82\n",
      "501  237.40  227.28\n",
      "\n",
      "[502 rows x 2 columns]\n"
     ]
    }
   ],
   "source": [
    "corr1_df = df[['High','Low']].copy()\n",
    "print(corr1_df)"
   ]
  },
  {
   "cell_type": "code",
   "execution_count": 53,
   "metadata": {},
   "outputs": [
    {
     "name": "stdout",
     "output_type": "stream",
     "text": [
      "          High       Low\n",
      "High  1.000000  0.996071\n",
      "Low   0.996071  1.000000\n"
     ]
    }
   ],
   "source": [
    "print(corr1_df.corr())"
   ]
  },
  {
   "cell_type": "markdown",
   "metadata": {},
   "source": [
    "12. Check the correlation between the fields 'Low' and 'Open'"
   ]
  },
  {
   "cell_type": "code",
   "execution_count": 54,
   "metadata": {},
   "outputs": [
    {
     "name": "stdout",
     "output_type": "stream",
     "text": [
      "       Open     Low\n",
      "0    257.99  249.25\n",
      "1    258.04  255.82\n",
      "2    264.51  255.51\n",
      "3    270.00  262.24\n",
      "4    256.01  255.32\n",
      "..      ...     ...\n",
      "497  208.65  196.66\n",
      "498  222.60  203.08\n",
      "499  211.36  210.14\n",
      "500  226.04  214.82\n",
      "501  234.05  227.28\n",
      "\n",
      "[502 rows x 2 columns]\n"
     ]
    }
   ],
   "source": [
    "corr1_df = df[['Open','Low']].copy()\n",
    "print(corr1_df)"
   ]
  },
  {
   "cell_type": "code",
   "execution_count": 55,
   "metadata": {},
   "outputs": [
    {
     "name": "stdout",
     "output_type": "stream",
     "text": [
      "         Open      Low\n",
      "Open  1.00000  0.99562\n",
      "Low   0.99562  1.00000\n"
     ]
    }
   ],
   "source": [
    "print(corr1_df.corr())"
   ]
  },
  {
   "cell_type": "markdown",
   "metadata": {},
   "source": [
    "Make 12 arrays(or a 2D array) for the 12 months of the year and sort each array. Then we check the following:\n",
    "1. Which month has the least mean value\n",
    "2. Which month has the least median value\n",
    "3. Which month has the least/highest change in open and closing price"
   ]
  },
  {
   "cell_type": "markdown",
   "metadata": {},
   "source": [
    "Make 6 dictionaries: h_2022 (high), h_2023, h_2024; l_2022 (low), l_2023, l_2024\n",
    "And in each dictionary months are the corresponding high/low values in arrays "
   ]
  }
 ],
 "metadata": {
  "kernelspec": {
   "display_name": "Python 3",
   "language": "python",
   "name": "python3"
  },
  "language_info": {
   "codemirror_mode": {
    "name": "ipython",
    "version": 3
   },
   "file_extension": ".py",
   "mimetype": "text/x-python",
   "name": "python",
   "nbconvert_exporter": "python",
   "pygments_lexer": "ipython3",
   "version": "3.12.2"
  }
 },
 "nbformat": 4,
 "nbformat_minor": 2
}

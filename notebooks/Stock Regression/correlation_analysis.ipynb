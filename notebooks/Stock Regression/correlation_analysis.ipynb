{
 "cells": [
  {
   "cell_type": "code",
   "execution_count": 26,
   "metadata": {},
   "outputs": [],
   "source": [
    "import numpy as np\n",
    "import matplotlib as plt\n",
    "import pandas as pd"
   ]
  },
  {
   "cell_type": "markdown",
   "metadata": {},
   "source": [
    "correlation formula\n",
    "![https://www.geeksforgeeks.org/wp-content/ql-cache/quicklatex.com-645e44c7cde6abdb5540e32f6c56811f_l3.svg](http://)"
   ]
  },
  {
   "cell_type": "markdown",
   "metadata": {},
   "source": [
    "Finding the correlation coefficients of some of the parameters in the dataset. Since there are less number of columns in the dataset, we can check correlations for many more fields"
   ]
  },
  {
   "cell_type": "markdown",
   "metadata": {},
   "source": [
    "1. Check the correlation between the fields 'Price' and 'Change'"
   ]
  },
  {
   "cell_type": "code",
   "execution_count": 27,
   "metadata": {},
   "outputs": [
    {
     "name": "stdout",
     "output_type": "stream",
     "text": [
      "      Unnamed: 0        Date   Price    Open    High     Low  Vol.(Millions)  \\\n",
      "0              0  15-11-2024  320.72  310.57  324.68  309.22          114.44   \n",
      "1              1  14-11-2024  311.18  327.69  329.98  310.37          120.73   \n",
      "2              2  13-11-2024  330.24  335.85  344.60  322.50          125.41   \n",
      "3              3  12-11-2024  328.49  342.74  345.84  323.31          155.73   \n",
      "4              4  11-11-2024  350.00  346.30  358.64  336.00          210.52   \n",
      "...          ...         ...     ...     ...     ...     ...             ...   \n",
      "2471        2481  08-01-2015   14.04   14.19   14.25   14.00           51.64   \n",
      "2472        2482  07-01-2015   14.06   14.22   14.32   13.99           44.53   \n",
      "2473        2483  06-01-2015   14.09   14.00   14.28   13.61           93.93   \n",
      "2474        2484  05-01-2015   14.01   14.30   14.43   13.81           80.53   \n",
      "2475        2485  02-01-2015   14.62   14.86   14.88   14.22           71.47   \n",
      "\n",
      "      Change  \n",
      "0     0.0307  \n",
      "1    -0.0577  \n",
      "2     0.0053  \n",
      "3    -0.0615  \n",
      "4     0.0896  \n",
      "...      ...  \n",
      "2471 -0.0014  \n",
      "2472 -0.0021  \n",
      "2473  0.0057  \n",
      "2474 -0.0417  \n",
      "2475 -0.0142  \n",
      "\n",
      "[2476 rows x 8 columns]\n"
     ]
    }
   ],
   "source": [
    "df=pd.read_csv(\"../../data/Stock Regression/Cleaned/TSLA Cleaned Data 2015-2024.csv\")\n",
    "print(df)"
   ]
  },
  {
   "cell_type": "code",
   "execution_count": 28,
   "metadata": {},
   "outputs": [],
   "source": [
    "# df.rename(columns={'Change %':'Change'},inplace=True)"
   ]
  },
  {
   "cell_type": "code",
   "execution_count": 29,
   "metadata": {},
   "outputs": [],
   "source": [
    "corr1_df = df[['Price','Change']].copy()\n",
    "# print(corr1_df)"
   ]
  },
  {
   "cell_type": "code",
   "execution_count": 30,
   "metadata": {},
   "outputs": [
    {
     "name": "stdout",
     "output_type": "stream",
     "text": [
      "           Price    Change\n",
      "Price   1.000000  0.019542\n",
      "Change  0.019542  1.000000\n"
     ]
    }
   ],
   "source": [
    "print(corr1_df.corr())"
   ]
  },
  {
   "cell_type": "markdown",
   "metadata": {},
   "source": [
    "In the output above, the correlation between 'Change' and 'Price is ~0.1, hence there is no significant correlation between the two"
   ]
  },
  {
   "cell_type": "markdown",
   "metadata": {},
   "source": [
    "2. Check the correlation between the fields 'Open' and 'Change'"
   ]
  },
  {
   "cell_type": "code",
   "execution_count": 31,
   "metadata": {},
   "outputs": [],
   "source": [
    "corr1_df = df[['Open','Change']].copy()\n",
    "# print(corr1_df)"
   ]
  },
  {
   "cell_type": "code",
   "execution_count": 32,
   "metadata": {},
   "outputs": [
    {
     "name": "stdout",
     "output_type": "stream",
     "text": [
      "            Open    Change\n",
      "Open    1.000000 -0.007794\n",
      "Change -0.007794  1.000000\n"
     ]
    }
   ],
   "source": [
    "print(corr1_df.corr())"
   ]
  },
  {
   "cell_type": "markdown",
   "metadata": {},
   "source": [
    "In the output above, the correlation between 'Change' and 'Open' is ~0.02, hence there is no significant correlation between the two"
   ]
  },
  {
   "cell_type": "markdown",
   "metadata": {},
   "source": [
    "3. Check the correlation between the fields 'High' and 'Change'"
   ]
  },
  {
   "cell_type": "code",
   "execution_count": 33,
   "metadata": {},
   "outputs": [],
   "source": [
    "corr1_df = df[['High','Change']].copy()\n",
    "# print(corr1_df)"
   ]
  },
  {
   "cell_type": "code",
   "execution_count": 34,
   "metadata": {},
   "outputs": [
    {
     "name": "stdout",
     "output_type": "stream",
     "text": [
      "            High    Change\n",
      "High    1.000000  0.004622\n",
      "Change  0.004622  1.000000\n"
     ]
    }
   ],
   "source": [
    "print(corr1_df.corr())"
   ]
  },
  {
   "cell_type": "markdown",
   "metadata": {},
   "source": [
    "In the output above, the correlation between 'Change' and 'High' is ~0.03, hence there is no significant correlation between the two"
   ]
  },
  {
   "cell_type": "markdown",
   "metadata": {},
   "source": [
    "4. Check the correlation between the fields 'Low' and 'Change'"
   ]
  },
  {
   "cell_type": "code",
   "execution_count": 35,
   "metadata": {},
   "outputs": [],
   "source": [
    "corr1_df = df[['Low','Change']].copy()\n",
    "# print(corr1_df)"
   ]
  },
  {
   "cell_type": "code",
   "execution_count": 36,
   "metadata": {},
   "outputs": [
    {
     "name": "stdout",
     "output_type": "stream",
     "text": [
      "             Low    Change\n",
      "Low     1.000000  0.005861\n",
      "Change  0.005861  1.000000\n"
     ]
    }
   ],
   "source": [
    "print(corr1_df.corr())"
   ]
  },
  {
   "cell_type": "markdown",
   "metadata": {},
   "source": [
    "In the output above, the correlation between 'Change' and 'Low' is ~0.04, hence there is no significant correlation between the two"
   ]
  },
  {
   "cell_type": "markdown",
   "metadata": {},
   "source": [
    "5. Check the correlation between the fields 'Vol.' and 'Change'"
   ]
  },
  {
   "cell_type": "code",
   "execution_count": 37,
   "metadata": {},
   "outputs": [],
   "source": [
    "corr1_df = df[['Vol.(Millions)','Change']].copy()\n",
    "# print(corr1_df)"
   ]
  },
  {
   "cell_type": "code",
   "execution_count": 38,
   "metadata": {},
   "outputs": [
    {
     "name": "stdout",
     "output_type": "stream",
     "text": [
      "                Vol.(Millions)    Change\n",
      "Vol.(Millions)        1.000000  0.097484\n",
      "Change                0.097484  1.000000\n"
     ]
    }
   ],
   "source": [
    "print(corr1_df.corr())"
   ]
  },
  {
   "cell_type": "code",
   "execution_count": 39,
   "metadata": {},
   "outputs": [],
   "source": [
    "corr1_df = df[['Vol.(Millions)','Change']].copy()\n",
    "corr1_df['Change']=abs(corr1_df['Change'])\n",
    "# print(corr1_df)"
   ]
  },
  {
   "cell_type": "code",
   "execution_count": 40,
   "metadata": {},
   "outputs": [
    {
     "name": "stdout",
     "output_type": "stream",
     "text": [
      "                Vol.(Millions)    Change\n",
      "Vol.(Millions)        1.000000  0.529507\n",
      "Change                0.529507  1.000000\n"
     ]
    }
   ],
   "source": [
    "print(corr1_df.corr())"
   ]
  },
  {
   "cell_type": "markdown",
   "metadata": {},
   "source": [
    "7. Check the correlation between the fields 'Price' and 'Open'"
   ]
  },
  {
   "cell_type": "code",
   "execution_count": 41,
   "metadata": {},
   "outputs": [],
   "source": [
    "corr1_df = df[['Price','Open']].copy()\n",
    "# print(corr1_df)"
   ]
  },
  {
   "cell_type": "code",
   "execution_count": 42,
   "metadata": {},
   "outputs": [
    {
     "name": "stdout",
     "output_type": "stream",
     "text": [
      "          Price      Open\n",
      "Price  1.000000  0.998977\n",
      "Open   0.998977  1.000000\n"
     ]
    }
   ],
   "source": [
    "print(corr1_df.corr())"
   ]
  },
  {
   "cell_type": "markdown",
   "metadata": {},
   "source": [
    "8. Check the correlation between the fields 'Price' and 'High'"
   ]
  },
  {
   "cell_type": "code",
   "execution_count": 43,
   "metadata": {},
   "outputs": [],
   "source": [
    "corr1_df = df[['Price','High']].copy()\n",
    "# print(corr1_df)"
   ]
  },
  {
   "cell_type": "code",
   "execution_count": 44,
   "metadata": {},
   "outputs": [
    {
     "name": "stdout",
     "output_type": "stream",
     "text": [
      "          Price      High\n",
      "Price  1.000000  0.999545\n",
      "High   0.999545  1.000000\n"
     ]
    }
   ],
   "source": [
    "print(corr1_df.corr())"
   ]
  },
  {
   "cell_type": "markdown",
   "metadata": {},
   "source": [
    "9. Check the correlation between the fields 'Price' and 'Low'"
   ]
  },
  {
   "cell_type": "code",
   "execution_count": 45,
   "metadata": {},
   "outputs": [],
   "source": [
    "corr1_df = df[['Price','Low']].copy()\n",
    "# print(corr1_df)"
   ]
  },
  {
   "cell_type": "code",
   "execution_count": 46,
   "metadata": {},
   "outputs": [
    {
     "name": "stdout",
     "output_type": "stream",
     "text": [
      "          Price       Low\n",
      "Price  1.000000  0.999592\n",
      "Low    0.999592  1.000000\n"
     ]
    }
   ],
   "source": [
    "print(corr1_df.corr())"
   ]
  },
  {
   "cell_type": "markdown",
   "metadata": {},
   "source": [
    "11. Check the correlation between the fields 'Low' and 'High'"
   ]
  },
  {
   "cell_type": "code",
   "execution_count": 47,
   "metadata": {},
   "outputs": [],
   "source": [
    "corr1_df = df[['High','Low']].copy()\n",
    "# print(corr1_df)"
   ]
  },
  {
   "cell_type": "code",
   "execution_count": 48,
   "metadata": {},
   "outputs": [
    {
     "name": "stdout",
     "output_type": "stream",
     "text": [
      "          High       Low\n",
      "High  1.000000  0.999524\n",
      "Low   0.999524  1.000000\n"
     ]
    }
   ],
   "source": [
    "print(corr1_df.corr())"
   ]
  },
  {
   "cell_type": "markdown",
   "metadata": {},
   "source": [
    "12. Check the correlation between the fields 'Low' and 'Open'"
   ]
  },
  {
   "cell_type": "code",
   "execution_count": 49,
   "metadata": {},
   "outputs": [],
   "source": [
    "corr1_df = df[['Open','Low']].copy()\n",
    "# print(corr1_df)"
   ]
  },
  {
   "cell_type": "code",
   "execution_count": 50,
   "metadata": {},
   "outputs": [
    {
     "name": "stdout",
     "output_type": "stream",
     "text": [
      "          Open       Low\n",
      "Open  1.000000  0.999518\n",
      "Low   0.999518  1.000000\n"
     ]
    }
   ],
   "source": [
    "print(corr1_df.corr())"
   ]
  },
  {
   "cell_type": "markdown",
   "metadata": {},
   "source": [
    "Make 12 arrays(or a 2D array) for the 12 months of the year and sort each array. Then we check the following:\n",
    "1. Which month has the least mean value\n",
    "2. Which month has the least median value\n",
    "3. Which month has the least/highest change in open and closing price"
   ]
  },
  {
   "cell_type": "markdown",
   "metadata": {},
   "source": [
    "Make 6 dictionaries: h_2022 (high), h_2023, h_2024; l_2022 (low), l_2023, l_2024\n",
    "And in each dictionary months are the corresponding high/low values in arrays "
   ]
  }
 ],
 "metadata": {
  "kernelspec": {
   "display_name": "Python 3",
   "language": "python",
   "name": "python3"
  },
  "language_info": {
   "codemirror_mode": {
    "name": "ipython",
    "version": 3
   },
   "file_extension": ".py",
   "mimetype": "text/x-python",
   "name": "python",
   "nbconvert_exporter": "python",
   "pygments_lexer": "ipython3",
   "version": "3.12.2"
  }
 },
 "nbformat": 4,
 "nbformat_minor": 2
}

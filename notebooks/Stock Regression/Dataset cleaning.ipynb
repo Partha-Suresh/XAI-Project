{
 "cells": [
  {
   "cell_type": "code",
   "execution_count": 1,
   "metadata": {
    "_cell_guid": "f77a9938-1fe0-4c36-a3f8-a4af6abfa3c5",
    "_uuid": "0b32cfdf-bd81-43be-9062-3f5c9685fa56",
    "collapsed": false,
    "execution": {
     "iopub.execute_input": "2024-11-04T07:56:20.902547Z",
     "iopub.status.busy": "2024-11-04T07:56:20.902156Z",
     "iopub.status.idle": "2024-11-04T07:56:21.300105Z",
     "shell.execute_reply": "2024-11-04T07:56:21.298898Z",
     "shell.execute_reply.started": "2024-11-04T07:56:20.902507Z"
    },
    "jupyter": {
     "outputs_hidden": false
    },
    "trusted": true
   },
   "outputs": [],
   "source": [
    "import pandas as pd\n",
    "import numpy as np\n",
    "import matplotlib as plt"
   ]
  },
  {
   "cell_type": "code",
   "execution_count": 2,
   "metadata": {
    "_cell_guid": "fb845f43-8ed6-49a6-87a4-1b598a5f51f3",
    "_uuid": "40a15449-9fca-424f-8421-b41a5156599d",
    "collapsed": false,
    "execution": {
     "iopub.execute_input": "2024-11-04T03:54:25.895889Z",
     "iopub.status.busy": "2024-11-04T03:54:25.894855Z",
     "iopub.status.idle": "2024-11-04T03:54:25.936421Z",
     "shell.execute_reply": "2024-11-04T03:54:25.935307Z",
     "shell.execute_reply.started": "2024-11-04T03:54:25.895753Z"
    },
    "jupyter": {
     "outputs_hidden": false
    },
    "trusted": true
   },
   "outputs": [
    {
     "data": {
      "text/html": [
       "<div>\n",
       "<style scoped>\n",
       "    .dataframe tbody tr th:only-of-type {\n",
       "        vertical-align: middle;\n",
       "    }\n",
       "\n",
       "    .dataframe tbody tr th {\n",
       "        vertical-align: top;\n",
       "    }\n",
       "\n",
       "    .dataframe thead th {\n",
       "        text-align: right;\n",
       "    }\n",
       "</style>\n",
       "<table border=\"1\" class=\"dataframe\">\n",
       "  <thead>\n",
       "    <tr style=\"text-align: right;\">\n",
       "      <th></th>\n",
       "      <th>Date</th>\n",
       "      <th>Price</th>\n",
       "      <th>Open</th>\n",
       "      <th>High</th>\n",
       "      <th>Low</th>\n",
       "      <th>Vol.(Millions)</th>\n",
       "      <th>Change</th>\n",
       "    </tr>\n",
       "  </thead>\n",
       "  <tbody>\n",
       "    <tr>\n",
       "      <th>0</th>\n",
       "      <td>11/15/2024</td>\n",
       "      <td>320.72</td>\n",
       "      <td>310.57</td>\n",
       "      <td>324.68</td>\n",
       "      <td>309.22</td>\n",
       "      <td>114.44</td>\n",
       "      <td>0.0307</td>\n",
       "    </tr>\n",
       "    <tr>\n",
       "      <th>1</th>\n",
       "      <td>11/14/2024</td>\n",
       "      <td>311.18</td>\n",
       "      <td>327.69</td>\n",
       "      <td>329.98</td>\n",
       "      <td>310.37</td>\n",
       "      <td>120.73</td>\n",
       "      <td>-0.0577</td>\n",
       "    </tr>\n",
       "    <tr>\n",
       "      <th>2</th>\n",
       "      <td>11/13/2024</td>\n",
       "      <td>330.24</td>\n",
       "      <td>335.85</td>\n",
       "      <td>344.60</td>\n",
       "      <td>322.50</td>\n",
       "      <td>125.41</td>\n",
       "      <td>0.0053</td>\n",
       "    </tr>\n",
       "    <tr>\n",
       "      <th>3</th>\n",
       "      <td>11-12-2024</td>\n",
       "      <td>328.49</td>\n",
       "      <td>342.74</td>\n",
       "      <td>345.84</td>\n",
       "      <td>323.31</td>\n",
       "      <td>155.73</td>\n",
       "      <td>-0.0615</td>\n",
       "    </tr>\n",
       "    <tr>\n",
       "      <th>4</th>\n",
       "      <td>11-11-2024</td>\n",
       "      <td>350.00</td>\n",
       "      <td>346.30</td>\n",
       "      <td>358.64</td>\n",
       "      <td>336.00</td>\n",
       "      <td>210.52</td>\n",
       "      <td>0.0896</td>\n",
       "    </tr>\n",
       "    <tr>\n",
       "      <th>5</th>\n",
       "      <td>11-08-2024</td>\n",
       "      <td>321.22</td>\n",
       "      <td>299.14</td>\n",
       "      <td>328.71</td>\n",
       "      <td>297.66</td>\n",
       "      <td>204.78</td>\n",
       "      <td>0.0819</td>\n",
       "    </tr>\n",
       "    <tr>\n",
       "      <th>6</th>\n",
       "      <td>11-07-2024</td>\n",
       "      <td>296.91</td>\n",
       "      <td>288.89</td>\n",
       "      <td>299.75</td>\n",
       "      <td>285.52</td>\n",
       "      <td>117.31</td>\n",
       "      <td>0.0290</td>\n",
       "    </tr>\n",
       "    <tr>\n",
       "      <th>7</th>\n",
       "      <td>11-06-2024</td>\n",
       "      <td>288.53</td>\n",
       "      <td>284.67</td>\n",
       "      <td>289.59</td>\n",
       "      <td>275.62</td>\n",
       "      <td>165.23</td>\n",
       "      <td>0.1475</td>\n",
       "    </tr>\n",
       "    <tr>\n",
       "      <th>8</th>\n",
       "      <td>11-05-2024</td>\n",
       "      <td>251.44</td>\n",
       "      <td>247.34</td>\n",
       "      <td>255.28</td>\n",
       "      <td>246.21</td>\n",
       "      <td>69.28</td>\n",
       "      <td>0.0354</td>\n",
       "    </tr>\n",
       "    <tr>\n",
       "      <th>9</th>\n",
       "      <td>11-04-2024</td>\n",
       "      <td>242.84</td>\n",
       "      <td>244.56</td>\n",
       "      <td>248.90</td>\n",
       "      <td>238.88</td>\n",
       "      <td>68.80</td>\n",
       "      <td>-0.0247</td>\n",
       "    </tr>\n",
       "    <tr>\n",
       "      <th>10</th>\n",
       "      <td>11-01-2024</td>\n",
       "      <td>248.98</td>\n",
       "      <td>252.04</td>\n",
       "      <td>254.00</td>\n",
       "      <td>246.63</td>\n",
       "      <td>57.54</td>\n",
       "      <td>-0.0035</td>\n",
       "    </tr>\n",
       "    <tr>\n",
       "      <th>11</th>\n",
       "      <td>10/31/2024</td>\n",
       "      <td>249.85</td>\n",
       "      <td>257.99</td>\n",
       "      <td>259.75</td>\n",
       "      <td>249.25</td>\n",
       "      <td>66.58</td>\n",
       "      <td>-0.0299</td>\n",
       "    </tr>\n",
       "    <tr>\n",
       "      <th>12</th>\n",
       "      <td>10/30/2024</td>\n",
       "      <td>257.55</td>\n",
       "      <td>258.04</td>\n",
       "      <td>263.35</td>\n",
       "      <td>255.82</td>\n",
       "      <td>53.99</td>\n",
       "      <td>-0.0076</td>\n",
       "    </tr>\n",
       "    <tr>\n",
       "      <th>13</th>\n",
       "      <td>10/29/2024</td>\n",
       "      <td>259.52</td>\n",
       "      <td>264.51</td>\n",
       "      <td>264.98</td>\n",
       "      <td>255.51</td>\n",
       "      <td>80.52</td>\n",
       "      <td>-0.0114</td>\n",
       "    </tr>\n",
       "    <tr>\n",
       "      <th>14</th>\n",
       "      <td>10/28/2024</td>\n",
       "      <td>262.51</td>\n",
       "      <td>270.00</td>\n",
       "      <td>273.54</td>\n",
       "      <td>262.24</td>\n",
       "      <td>107.65</td>\n",
       "      <td>-0.0248</td>\n",
       "    </tr>\n",
       "  </tbody>\n",
       "</table>\n",
       "</div>"
      ],
      "text/plain": [
       "          Date   Price    Open    High     Low  Vol.(Millions)  Change\n",
       "0   11/15/2024  320.72  310.57  324.68  309.22          114.44  0.0307\n",
       "1   11/14/2024  311.18  327.69  329.98  310.37          120.73 -0.0577\n",
       "2   11/13/2024  330.24  335.85  344.60  322.50          125.41  0.0053\n",
       "3   11-12-2024  328.49  342.74  345.84  323.31          155.73 -0.0615\n",
       "4   11-11-2024  350.00  346.30  358.64  336.00          210.52  0.0896\n",
       "5   11-08-2024  321.22  299.14  328.71  297.66          204.78  0.0819\n",
       "6   11-07-2024  296.91  288.89  299.75  285.52          117.31  0.0290\n",
       "7   11-06-2024  288.53  284.67  289.59  275.62          165.23  0.1475\n",
       "8   11-05-2024  251.44  247.34  255.28  246.21           69.28  0.0354\n",
       "9   11-04-2024  242.84  244.56  248.90  238.88           68.80 -0.0247\n",
       "10  11-01-2024  248.98  252.04  254.00  246.63           57.54 -0.0035\n",
       "11  10/31/2024  249.85  257.99  259.75  249.25           66.58 -0.0299\n",
       "12  10/30/2024  257.55  258.04  263.35  255.82           53.99 -0.0076\n",
       "13  10/29/2024  259.52  264.51  264.98  255.51           80.52 -0.0114\n",
       "14  10/28/2024  262.51  270.00  273.54  262.24          107.65 -0.0248"
      ]
     },
     "execution_count": 2,
     "metadata": {},
     "output_type": "execute_result"
    }
   ],
   "source": [
    "df=pd.read_csv(\"../../data/Stock Regression/TSLA Historical Data 2015-2024.csv\")\n",
    "df.head(15)"
   ]
  },
  {
   "cell_type": "code",
   "execution_count": 3,
   "metadata": {
    "_cell_guid": "87d940e5-6da7-40eb-bca4-80e5c71f4336",
    "_uuid": "290fcf9a-d5d0-47c9-a72e-688296160dde",
    "collapsed": false,
    "execution": {
     "iopub.execute_input": "2024-11-04T03:54:25.939874Z",
     "iopub.status.busy": "2024-11-04T03:54:25.939465Z",
     "iopub.status.idle": "2024-11-04T03:54:25.965194Z",
     "shell.execute_reply": "2024-11-04T03:54:25.964159Z",
     "shell.execute_reply.started": "2024-11-04T03:54:25.939837Z"
    },
    "jupyter": {
     "outputs_hidden": false
    },
    "trusted": true
   },
   "outputs": [
    {
     "name": "stdout",
     "output_type": "stream",
     "text": [
      "<class 'pandas.core.frame.DataFrame'>\n",
      "RangeIndex: 2486 entries, 0 to 2485\n",
      "Data columns (total 7 columns):\n",
      " #   Column          Non-Null Count  Dtype  \n",
      "---  ------          --------------  -----  \n",
      " 0   Date            2486 non-null   object \n",
      " 1   Price           2486 non-null   float64\n",
      " 2   Open            2486 non-null   float64\n",
      " 3   High            2486 non-null   float64\n",
      " 4   Low             2486 non-null   float64\n",
      " 5   Vol.(Millions)  2486 non-null   float64\n",
      " 6   Change          2486 non-null   float64\n",
      "dtypes: float64(6), object(1)\n",
      "memory usage: 136.1+ KB\n"
     ]
    }
   ],
   "source": [
    "df.info()"
   ]
  },
  {
   "cell_type": "markdown",
   "metadata": {
    "_cell_guid": "49efddf9-b736-4ac5-8e2b-150bd0a54788",
    "_uuid": "ba50924d-7fbd-4626-a1d7-6d0ff491d861",
    "trusted": true
   },
   "source": [
    "The change field is string type and has '%' symbol. this function and code block is to remove that"
   ]
  },
  {
   "cell_type": "code",
   "execution_count": 4,
   "metadata": {
    "_cell_guid": "b1efef79-3401-451a-9b6d-6959e2b99383",
    "_uuid": "8f8ff9ce-0e87-4d84-a02b-7141d6461573",
    "collapsed": false,
    "execution": {
     "iopub.execute_input": "2024-11-04T03:54:25.967003Z",
     "iopub.status.busy": "2024-11-04T03:54:25.966562Z",
     "iopub.status.idle": "2024-11-04T03:54:25.974040Z",
     "shell.execute_reply": "2024-11-04T03:54:25.973167Z",
     "shell.execute_reply.started": "2024-11-04T03:54:25.966961Z"
    },
    "jupyter": {
     "outputs_hidden": false
    },
    "trusted": true
   },
   "outputs": [
    {
     "name": "stderr",
     "output_type": "stream",
     "text": [
      "<>:1: SyntaxWarning: invalid escape sequence '\\S'\n",
      "<>:1: SyntaxWarning: invalid escape sequence '\\S'\n",
      "C:\\Users\\parth\\AppData\\Local\\Temp\\ipykernel_29200\\2732714053.py:1: SyntaxWarning: invalid escape sequence '\\S'\n",
      "  temp_df=pd.read_csv('../../data\\Stock Regression\\TSLA Historical Data 2015-2024.csv',usecols=['Change'])\n"
     ]
    }
   ],
   "source": [
    "temp_df=pd.read_csv('../../data\\Stock Regression\\TSLA Historical Data 2015-2024.csv',usecols=['Change'])"
   ]
  },
  {
   "cell_type": "code",
   "execution_count": 5,
   "metadata": {
    "_cell_guid": "302318f8-b639-422d-bfab-5cd50209b387",
    "_uuid": "11167197-adf5-44a5-bb4d-146fc87468c3",
    "collapsed": false,
    "execution": {
     "iopub.execute_input": "2024-11-04T03:54:25.975602Z",
     "iopub.status.busy": "2024-11-04T03:54:25.975266Z",
     "iopub.status.idle": "2024-11-04T03:54:25.980437Z",
     "shell.execute_reply": "2024-11-04T03:54:25.979339Z",
     "shell.execute_reply.started": "2024-11-04T03:54:25.975568Z"
    },
    "jupyter": {
     "outputs_hidden": false
    },
    "trusted": true
   },
   "outputs": [],
   "source": [
    "# def clean_str(strings):\n",
    "#     return strings[:-1]"
   ]
  },
  {
   "cell_type": "code",
   "execution_count": 6,
   "metadata": {
    "_cell_guid": "c4fc7e02-2dc6-4e7a-bcf8-da79a34f8117",
    "_uuid": "6831eea5-ef9e-4992-a1a9-fdbf4275de1d",
    "collapsed": false,
    "execution": {
     "iopub.execute_input": "2024-11-04T03:55:16.581665Z",
     "iopub.status.busy": "2024-11-04T03:55:16.581201Z",
     "iopub.status.idle": "2024-11-04T03:55:16.586423Z",
     "shell.execute_reply": "2024-11-04T03:55:16.585083Z",
     "shell.execute_reply.started": "2024-11-04T03:55:16.581624Z"
    },
    "jupyter": {
     "outputs_hidden": false
    },
    "trusted": true
   },
   "outputs": [],
   "source": [
    "# for rows in temp_df.iterrows():\n",
    "#     rows=clean_str(rows)"
   ]
  },
  {
   "cell_type": "code",
   "execution_count": 7,
   "metadata": {
    "_cell_guid": "6529cb98-cfb3-4e66-a7ea-65ecc34890c8",
    "_uuid": "5168a65b-d273-4c48-87f8-41f9037fb3c7",
    "collapsed": false,
    "execution": {
     "iopub.execute_input": "2024-11-04T03:55:21.771711Z",
     "iopub.status.busy": "2024-11-04T03:55:21.771315Z",
     "iopub.status.idle": "2024-11-04T03:55:21.782368Z",
     "shell.execute_reply": "2024-11-04T03:55:21.781115Z",
     "shell.execute_reply.started": "2024-11-04T03:55:21.771673Z"
    },
    "jupyter": {
     "outputs_hidden": false
    },
    "trusted": true
   },
   "outputs": [
    {
     "name": "stdout",
     "output_type": "stream",
     "text": [
      "      Change\n",
      "0     0.0307\n",
      "1    -0.0577\n",
      "2     0.0053\n",
      "3    -0.0615\n",
      "4     0.0896\n",
      "...      ...\n",
      "2481 -0.0014\n",
      "2482 -0.0021\n",
      "2483  0.0057\n",
      "2484 -0.0417\n",
      "2485 -0.0142\n",
      "\n",
      "[2486 rows x 1 columns]\n"
     ]
    }
   ],
   "source": [
    "print(temp_df)"
   ]
  },
  {
   "cell_type": "code",
   "execution_count": 8,
   "metadata": {
    "_cell_guid": "17682a3d-33c3-4062-972d-84dfb7983622",
    "_uuid": "fb9ee8ae-17ee-49ce-9c68-ddf3916d0249",
    "collapsed": false,
    "execution": {
     "iopub.status.busy": "2024-11-04T03:54:26.294809Z",
     "iopub.status.idle": "2024-11-04T03:54:26.295232Z",
     "shell.execute_reply": "2024-11-04T03:54:26.295063Z",
     "shell.execute_reply.started": "2024-11-04T03:54:26.295043Z"
    },
    "jupyter": {
     "outputs_hidden": false
    },
    "trusted": true
   },
   "outputs": [],
   "source": [
    "convert_dict={'Change': float}\n",
    "df=df.astype(convert_dict)"
   ]
  },
  {
   "cell_type": "code",
   "execution_count": 9,
   "metadata": {
    "_cell_guid": "5e6c8c8b-25bb-4672-9052-9dc2ce941095",
    "_uuid": "a036705d-fe93-4e53-a42f-3f80fbe84b8c",
    "collapsed": false,
    "execution": {
     "iopub.execute_input": "2024-11-04T03:56:01.501057Z",
     "iopub.status.busy": "2024-11-04T03:56:01.500638Z",
     "iopub.status.idle": "2024-11-04T03:56:01.508664Z",
     "shell.execute_reply": "2024-11-04T03:56:01.507537Z",
     "shell.execute_reply.started": "2024-11-04T03:56:01.501013Z"
    },
    "jupyter": {
     "outputs_hidden": false
    },
    "trusted": true
   },
   "outputs": [
    {
     "data": {
      "text/plain": [
       "Index(['Date', 'Price', 'Open', 'High', 'Low', 'Vol.(Millions)', 'Change'], dtype='object')"
      ]
     },
     "execution_count": 9,
     "metadata": {},
     "output_type": "execute_result"
    }
   ],
   "source": [
    "df.columns"
   ]
  },
  {
   "cell_type": "code",
   "execution_count": 10,
   "metadata": {
    "_cell_guid": "88eaa046-5d49-41fc-ae7a-61df170e93f1",
    "_uuid": "10b15604-0745-4c72-8f35-2069c4618e29",
    "collapsed": false,
    "execution": {
     "iopub.execute_input": "2024-11-04T03:56:04.163176Z",
     "iopub.status.busy": "2024-11-04T03:56:04.162442Z",
     "iopub.status.idle": "2024-11-04T03:56:04.192529Z",
     "shell.execute_reply": "2024-11-04T03:56:04.191530Z",
     "shell.execute_reply.started": "2024-11-04T03:56:04.163133Z"
    },
    "jupyter": {
     "outputs_hidden": false
    },
    "trusted": true
   },
   "outputs": [
    {
     "data": {
      "text/html": [
       "<div>\n",
       "<style scoped>\n",
       "    .dataframe tbody tr th:only-of-type {\n",
       "        vertical-align: middle;\n",
       "    }\n",
       "\n",
       "    .dataframe tbody tr th {\n",
       "        vertical-align: top;\n",
       "    }\n",
       "\n",
       "    .dataframe thead th {\n",
       "        text-align: right;\n",
       "    }\n",
       "</style>\n",
       "<table border=\"1\" class=\"dataframe\">\n",
       "  <thead>\n",
       "    <tr style=\"text-align: right;\">\n",
       "      <th></th>\n",
       "      <th>Price</th>\n",
       "      <th>Open</th>\n",
       "      <th>High</th>\n",
       "      <th>Low</th>\n",
       "      <th>Vol.(Millions)</th>\n",
       "      <th>Change</th>\n",
       "    </tr>\n",
       "  </thead>\n",
       "  <tbody>\n",
       "    <tr>\n",
       "      <th>count</th>\n",
       "      <td>2486.000000</td>\n",
       "      <td>2486.000000</td>\n",
       "      <td>2486.000000</td>\n",
       "      <td>2486.000000</td>\n",
       "      <td>2486.000000</td>\n",
       "      <td>2486.000000</td>\n",
       "    </tr>\n",
       "    <tr>\n",
       "      <th>mean</th>\n",
       "      <td>112.325173</td>\n",
       "      <td>112.347377</td>\n",
       "      <td>114.810125</td>\n",
       "      <td>109.728190</td>\n",
       "      <td>112.708954</td>\n",
       "      <td>0.001881</td>\n",
       "    </tr>\n",
       "    <tr>\n",
       "      <th>std</th>\n",
       "      <td>110.617849</td>\n",
       "      <td>110.702729</td>\n",
       "      <td>113.167925</td>\n",
       "      <td>108.012873</td>\n",
       "      <td>74.453757</td>\n",
       "      <td>0.035976</td>\n",
       "    </tr>\n",
       "    <tr>\n",
       "      <th>min</th>\n",
       "      <td>9.580000</td>\n",
       "      <td>9.490000</td>\n",
       "      <td>10.330000</td>\n",
       "      <td>9.400000</td>\n",
       "      <td>10.650000</td>\n",
       "      <td>-0.210600</td>\n",
       "    </tr>\n",
       "    <tr>\n",
       "      <th>25%</th>\n",
       "      <td>17.130000</td>\n",
       "      <td>17.112500</td>\n",
       "      <td>17.392500</td>\n",
       "      <td>16.800000</td>\n",
       "      <td>66.885000</td>\n",
       "      <td>-0.016075</td>\n",
       "    </tr>\n",
       "    <tr>\n",
       "      <th>50%</th>\n",
       "      <td>25.285000</td>\n",
       "      <td>25.200000</td>\n",
       "      <td>25.645000</td>\n",
       "      <td>24.795000</td>\n",
       "      <td>93.140000</td>\n",
       "      <td>0.001250</td>\n",
       "    </tr>\n",
       "    <tr>\n",
       "      <th>75%</th>\n",
       "      <td>218.210000</td>\n",
       "      <td>218.535000</td>\n",
       "      <td>222.572500</td>\n",
       "      <td>213.040000</td>\n",
       "      <td>130.585000</td>\n",
       "      <td>0.019075</td>\n",
       "    </tr>\n",
       "    <tr>\n",
       "      <th>max</th>\n",
       "      <td>409.970000</td>\n",
       "      <td>411.470000</td>\n",
       "      <td>414.500000</td>\n",
       "      <td>405.670000</td>\n",
       "      <td>914.080000</td>\n",
       "      <td>0.219200</td>\n",
       "    </tr>\n",
       "  </tbody>\n",
       "</table>\n",
       "</div>"
      ],
      "text/plain": [
       "             Price         Open         High          Low  Vol.(Millions)  \\\n",
       "count  2486.000000  2486.000000  2486.000000  2486.000000     2486.000000   \n",
       "mean    112.325173   112.347377   114.810125   109.728190      112.708954   \n",
       "std     110.617849   110.702729   113.167925   108.012873       74.453757   \n",
       "min       9.580000     9.490000    10.330000     9.400000       10.650000   \n",
       "25%      17.130000    17.112500    17.392500    16.800000       66.885000   \n",
       "50%      25.285000    25.200000    25.645000    24.795000       93.140000   \n",
       "75%     218.210000   218.535000   222.572500   213.040000      130.585000   \n",
       "max     409.970000   411.470000   414.500000   405.670000      914.080000   \n",
       "\n",
       "            Change  \n",
       "count  2486.000000  \n",
       "mean      0.001881  \n",
       "std       0.035976  \n",
       "min      -0.210600  \n",
       "25%      -0.016075  \n",
       "50%       0.001250  \n",
       "75%       0.019075  \n",
       "max       0.219200  "
      ]
     },
     "execution_count": 10,
     "metadata": {},
     "output_type": "execute_result"
    }
   ],
   "source": [
    "df.describe()"
   ]
  },
  {
   "cell_type": "markdown",
   "metadata": {
    "_cell_guid": "a537e1e1-cbc5-40fb-a13f-337b2d5bc72f",
    "_uuid": "9230f272-5c3a-4c5c-a89c-4b4b6339a8ed",
    "trusted": true
   },
   "source": [
    "To check whether there are any NULL values present in the dataset"
   ]
  },
  {
   "cell_type": "code",
   "execution_count": 11,
   "metadata": {
    "_cell_guid": "e8cded32-f425-4cff-8938-758e475ac659",
    "_uuid": "5f5292f1-6d56-4ac4-b2f2-6f280cc447c5",
    "collapsed": false,
    "execution": {
     "iopub.execute_input": "2024-11-04T04:01:49.957907Z",
     "iopub.status.busy": "2024-11-04T04:01:49.956892Z",
     "iopub.status.idle": "2024-11-04T04:01:49.966507Z",
     "shell.execute_reply": "2024-11-04T04:01:49.965422Z",
     "shell.execute_reply.started": "2024-11-04T04:01:49.957856Z"
    },
    "jupyter": {
     "outputs_hidden": false
    },
    "trusted": true
   },
   "outputs": [
    {
     "data": {
      "text/plain": [
       "Date              0\n",
       "Price             0\n",
       "Open              0\n",
       "High              0\n",
       "Low               0\n",
       "Vol.(Millions)    0\n",
       "Change            0\n",
       "dtype: int64"
      ]
     },
     "execution_count": 11,
     "metadata": {},
     "output_type": "execute_result"
    }
   ],
   "source": [
    "df.isnull().sum()"
   ]
  },
  {
   "cell_type": "markdown",
   "metadata": {
    "_cell_guid": "e1f80eb1-eb6a-4523-9808-d16cf007bcff",
    "_uuid": "27fae040-2dd8-40cd-aa3f-8b7051481e72",
    "trusted": true
   },
   "source": [
    "The date entries are not in the same format in the .csv file. \n",
    "Changing that to dd-mm-yyyy format"
   ]
  },
  {
   "cell_type": "code",
   "execution_count": 12,
   "metadata": {
    "_cell_guid": "e8ffd848-c60e-4db9-aaed-1322b4dcf569",
    "_uuid": "5aaf0396-cd6d-4b27-9705-a2023c642e71",
    "collapsed": false,
    "execution": {
     "iopub.execute_input": "2024-11-04T04:02:08.437774Z",
     "iopub.status.busy": "2024-11-04T04:02:08.437356Z",
     "iopub.status.idle": "2024-11-04T04:02:08.447443Z",
     "shell.execute_reply": "2024-11-04T04:02:08.446393Z",
     "shell.execute_reply.started": "2024-11-04T04:02:08.437733Z"
    },
    "jupyter": {
     "outputs_hidden": false
    },
    "trusted": true
   },
   "outputs": [
    {
     "name": "stdout",
     "output_type": "stream",
     "text": [
      "0      2024-11-15\n",
      "1      2024-11-14\n",
      "2      2024-11-13\n",
      "3      2024-11-12\n",
      "4      2024-11-11\n",
      "          ...    \n",
      "2481   2015-01-08\n",
      "2482   2015-01-07\n",
      "2483   2015-01-06\n",
      "2484   2015-01-05\n",
      "2485   2015-01-02\n",
      "Name: Date, Length: 2486, dtype: datetime64[ns]\n"
     ]
    }
   ],
   "source": [
    "df['Date'] =pd.to_datetime(df.Date,format='mixed')\n",
    "print(df['Date'])"
   ]
  },
  {
   "cell_type": "code",
   "execution_count": 13,
   "metadata": {
    "_cell_guid": "1062ede4-dc21-45ab-bb00-f4b7a5cef59c",
    "_uuid": "6d0afbaf-9295-410e-aa83-71a45a3febdf",
    "collapsed": false,
    "execution": {
     "iopub.execute_input": "2024-11-04T04:02:41.168646Z",
     "iopub.status.busy": "2024-11-04T04:02:41.168199Z",
     "iopub.status.idle": "2024-11-04T04:02:41.180378Z",
     "shell.execute_reply": "2024-11-04T04:02:41.179099Z",
     "shell.execute_reply.started": "2024-11-04T04:02:41.168603Z"
    },
    "jupyter": {
     "outputs_hidden": false
    },
    "trusted": true
   },
   "outputs": [
    {
     "name": "stdout",
     "output_type": "stream",
     "text": [
      "0       15/11/24\n",
      "1       14/11/24\n",
      "2       13/11/24\n",
      "3       12/11/24\n",
      "4       11/11/24\n",
      "          ...   \n",
      "2481    08/01/15\n",
      "2482    07/01/15\n",
      "2483    06/01/15\n",
      "2484    05/01/15\n",
      "2485    02/01/15\n",
      "Name: Date, Length: 2486, dtype: object\n"
     ]
    }
   ],
   "source": [
    "df['Date']=df['Date'].dt.strftime('%d/%m/%y')\n",
    "print(df['Date'])"
   ]
  },
  {
   "cell_type": "markdown",
   "metadata": {},
   "source": [
    "Convert the cleaned dataframe to csv file and add it to the repository"
   ]
  },
  {
   "cell_type": "code",
   "execution_count": 14,
   "metadata": {},
   "outputs": [],
   "source": [
    "df.to_csv(\"../../data/Stock Regression/Cleaned/TSLA Cleaned Data 2-15-2024.csv\")"
   ]
  }
 ],
 "metadata": {
  "kaggle": {
   "accelerator": "none",
   "dataSources": [
    {
     "datasetId": 5995790,
     "sourceId": 9785882,
     "sourceType": "datasetVersion"
    }
   ],
   "dockerImageVersionId": 30786,
   "isGpuEnabled": false,
   "isInternetEnabled": false,
   "language": "python",
   "sourceType": "notebook"
  },
  "kernelspec": {
   "display_name": "Python 3",
   "language": "python",
   "name": "python3"
  },
  "language_info": {
   "codemirror_mode": {
    "name": "ipython",
    "version": 3
   },
   "file_extension": ".py",
   "mimetype": "text/x-python",
   "name": "python",
   "nbconvert_exporter": "python",
   "pygments_lexer": "ipython3",
   "version": "3.12.3"
  }
 },
 "nbformat": 4,
 "nbformat_minor": 4
}
